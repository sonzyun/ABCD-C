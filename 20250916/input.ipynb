{
 "cells": [
  {
   "cell_type": "markdown",
   "id": "16c09325",
   "metadata": {},
   "source": [
    "## 기본 구구단 프로그램"
   ]
  },
  {
   "cell_type": "code",
   "execution_count": 3,
   "id": "71005dbd",
   "metadata": {},
   "outputs": [
    {
     "name": "stdout",
     "output_type": "stream",
     "text": [
      "\n",
      "===== 3단 =====\n",
      "3 × 1 = 3\n",
      "3 × 2 = 6\n",
      "3 × 3 = 9\n",
      "3 × 4 = 12\n",
      "3 × 5 = 15\n",
      "3 × 6 = 18\n",
      "3 × 7 = 21\n",
      "3 × 8 = 24\n",
      "3 × 9 = 27\n",
      "===============\n"
     ]
    }
   ],
   "source": [
    "# -*- coding: utf-8 -*-\n",
    "\n",
    "def print_multiplication_table(num):\n",
    "    \"\"\"지정된 단의 구구단을 출력하는 함수\"\"\"\n",
    "    print(f\"\\n===== {num}단 =====\")\n",
    "    for i in range(1, 10):\n",
    "        result = num * i\n",
    "        print(f\"{num} × {i} = {result}\")\n",
    "    print(\"=\" * 15)\n",
    "\n",
    "def main():\n",
    "    \"\"\"메인 함수\"\"\"\n",
    "    try:\n",
    "        # 사용자로부터 단수 입력받기\n",
    "        dan = int(input(\"몇 단을 출력하시겠습니까? (1-9): \"))\n",
    "        \n",
    "        # 입력 범위 확인\n",
    "        if 1 <= dan <= 9:\n",
    "            print_multiplication_table(dan)\n",
    "        else:\n",
    "            print(\"1부터 9까지의 숫자를 입력해주세요.\")\n",
    "            \n",
    "    except ValueError:\n",
    "        print(\"올바른 숫자를 입력해주세요.\")\n",
    "    except KeyboardInterrupt:\n",
    "        print(\"\\n프로그램을 종료합니다.\")\n",
    "\n",
    "if __name__ == \"__main__\":\n",
    "    main()"
   ]
  },
  {
   "cell_type": "markdown",
   "id": "2273d6eb",
   "metadata": {},
   "source": [
    "## 발전된 구구단 프로그램"
   ]
  },
  {
   "cell_type": "code",
   "execution_count": 4,
   "id": "9833d2de",
   "metadata": {},
   "outputs": [
    {
     "name": "stdout",
     "output_type": "stream",
     "text": [
      "🔢 구구단 프로그램에 오신 것을 환영합니다!\n",
      "\n",
      "[메뉴]\n",
      "1. 특정 단 출력\n",
      "2. 전체 구구단 출력 (2단~9단)\n",
      "3. 종료\n",
      "\n",
      "===== 5단 =====\n",
      "5 × 1 = 5\n",
      "5 × 2 = 10\n",
      "5 × 3 = 15\n",
      "5 × 4 = 20\n",
      "5 × 5 = 25\n",
      "5 × 6 = 30\n",
      "5 × 7 = 35\n",
      "5 × 8 = 40\n",
      "5 × 9 = 45\n",
      "===============\n",
      "\n",
      "[메뉴]\n",
      "1. 특정 단 출력\n",
      "2. 전체 구구단 출력 (2단~9단)\n",
      "3. 종료\n",
      "👋 프로그램을 종료합니다. 감사합니다!\n"
     ]
    }
   ],
   "source": [
    "# -*- coding: utf-8 -*-\n",
    "\n",
    "def print_multiplication_table(num):\n",
    "    \"\"\"지정된 단의 구구단을 출력하는 함수\"\"\"\n",
    "    print(f\"\\n===== {num}단 =====\")\n",
    "    for i in range(1, 10):\n",
    "        result = num * i\n",
    "        print(f\"{num} × {i} = {result}\")\n",
    "    print(\"=\" * 15)\n",
    "\n",
    "def main():\n",
    "    \"\"\"메인 함수\"\"\"\n",
    "    print(\"🔢 구구단 프로그램에 오신 것을 환영합니다!\")\n",
    "    \n",
    "    while True:\n",
    "        try:\n",
    "            print(\"\\n[메뉴]\")\n",
    "            print(\"1. 특정 단 출력\")\n",
    "            print(\"2. 전체 구구단 출력 (2단~9단)\")\n",
    "            print(\"3. 종료\")\n",
    "            \n",
    "            choice = input(\"\\n선택하세요 (1-3): \")\n",
    "            \n",
    "            if choice == \"1\":\n",
    "                dan = int(input(\"몇 단을 출력하시겠습니까? (1-9): \"))\n",
    "                if 1 <= dan <= 9:\n",
    "                    print_multiplication_table(dan)\n",
    "                else:\n",
    "                    print(\"❌ 1부터 9까지의 숫자를 입력해주세요.\")\n",
    "                    \n",
    "            elif choice == \"2\":\n",
    "                print(\"\\n🌟 전체 구구단을 출력합니다 🌟\")\n",
    "                for dan in range(2, 10):\n",
    "                    print_multiplication_table(dan)\n",
    "                    \n",
    "            elif choice == \"3\":\n",
    "                print(\"👋 프로그램을 종료합니다. 감사합니다!\")\n",
    "                break\n",
    "                \n",
    "            else:\n",
    "                print(\"❌ 1, 2, 3 중에서 선택해주세요.\")\n",
    "                \n",
    "        except ValueError:\n",
    "            print(\"❌ 올바른 숫자를 입력해주세요.\")\n",
    "        except KeyboardInterrupt:\n",
    "            print(\"\\n👋 프로그램을 종료합니다.\")\n",
    "            break\n",
    "\n",
    "if __name__ == \"__main__\":\n",
    "    main()"
   ]
  }
 ],
 "metadata": {
  "kernelspec": {
   "display_name": "basic",
   "language": "python",
   "name": "python3"
  },
  "language_info": {
   "codemirror_mode": {
    "name": "ipython",
    "version": 3
   },
   "file_extension": ".py",
   "mimetype": "text/x-python",
   "name": "python",
   "nbconvert_exporter": "python",
   "pygments_lexer": "ipython3",
   "version": "3.11.13"
  }
 },
 "nbformat": 4,
 "nbformat_minor": 5
}
